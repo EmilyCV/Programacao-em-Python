{
 "cells": [
  {
   "cell_type": "code",
   "execution_count": null,
   "metadata": {},
   "outputs": [],
   "source": [
    "# Method Join\n",
    "\n",
    "palavra = ['g', 'e', 'e', 'k', 's'] \n",
    " \n",
    "print(\"\".join(palavra))\n",
    "# geeks"
   ]
  }
 ],
 "metadata": {
  "interpreter": {
   "hash": "35ff28621f974bbf6836097d45f37c72b8472ad447b3391b76a5c5a8b74a4693"
  },
  "kernelspec": {
   "display_name": "Python 3.7.8 64-bit",
   "language": "python",
   "name": "python3"
  },
  "language_info": {
   "codemirror_mode": {
    "name": "ipython",
    "version": 3
   },
   "file_extension": ".py",
   "mimetype": "text/x-python",
   "name": "python",
   "nbconvert_exporter": "python",
   "pygments_lexer": "ipython3",
   "version": "3.7.8"
  },
  "orig_nbformat": 4
 },
 "nbformat": 4,
 "nbformat_minor": 2
}
