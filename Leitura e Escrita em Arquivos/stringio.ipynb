{
 "cells": [
  {
   "cell_type": "code",
   "execution_count": 23,
   "metadata": {},
   "outputs": [
    {
     "name": "stdout",
     "output_type": "stream",
     "text": [
      " Outro textos uma string normal\n"
     ]
    }
   ],
   "source": [
    "# StringIO -> Utilizado para ler e criar arquivos em memória\n",
    "\n",
    "from io import StringIO\n",
    "\n",
    "mensagem = \"Está é apenas uma string normal\"\n",
    "\n",
    "# Podemos criar um arquivo em memória já com uma string inserida ou mesmo vazio para inserirmos texto depois\n",
    "arquivo = StringIO(mensagem)\n",
    "\n",
    "arquivo.write(' Outro texto')\n",
    "\n",
    "arquivo.seek(0)\n",
    "\n",
    "print(arquivo.read())"
   ]
  }
 ],
 "metadata": {
  "interpreter": {
   "hash": "35ff28621f974bbf6836097d45f37c72b8472ad447b3391b76a5c5a8b74a4693"
  },
  "kernelspec": {
   "display_name": "Python 3.7.8 64-bit",
   "language": "python",
   "name": "python3"
  },
  "language_info": {
   "codemirror_mode": {
    "name": "ipython",
    "version": 3
   },
   "file_extension": ".py",
   "mimetype": "text/x-python",
   "name": "python",
   "nbconvert_exporter": "python",
   "pygments_lexer": "ipython3",
   "version": "3.7.8"
  },
  "orig_nbformat": 4
 },
 "nbformat": 4,
 "nbformat_minor": 2
}
