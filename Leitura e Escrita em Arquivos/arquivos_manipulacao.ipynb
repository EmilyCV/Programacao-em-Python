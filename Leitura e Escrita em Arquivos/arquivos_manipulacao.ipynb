{
 "cells": [
  {
   "cell_type": "code",
   "execution_count": null,
   "metadata": {},
   "outputs": [],
   "source": [
    "# Arquivo\n",
    "import os\n",
    "\n",
    "print(os.path.exists('frutas.txt'))  # True\n",
    "print(os.path.exists('novoarquivo.txt')) # False"
   ]
  },
  {
   "cell_type": "code",
   "execution_count": null,
   "metadata": {},
   "outputs": [],
   "source": [
    "# Diretório\n",
    "import os\n",
    "\n",
    "# Paths relativos\n",
    "print(os.path.exists('../../../Curso')) # True\n",
    "print(os.path.exists('../../../Curso/Python')) # True\n",
    "print(os.path.exists('Outro')) # False"
   ]
  },
  {
   "cell_type": "markdown",
   "metadata": {},
   "source": [
    "> Criando arquivos"
   ]
  },
  {
   "cell_type": "code",
   "execution_count": 30,
   "metadata": {},
   "outputs": [],
   "source": [
    "# Forma 1\n",
    "open('arquivo-teste.py', 'w').close()\n",
    "\n",
    "# Forma 2\n",
    "open('arquivo-teste2.txt', 'a').close()\n",
    "\n",
    "# Forma 3\n",
    "with open('arquivo-teste3.txt', 'w') as arquivo:\n",
    "    pass"
   ]
  },
  {
   "cell_type": "code",
   "execution_count": 31,
   "metadata": {},
   "outputs": [],
   "source": [
    "arquivo = open('arquivo-teste.py', 'w')\n",
    "arquivo.write('# Criando arquivo teste para \"arquivos_manipulacao.ipynb\"\\na = 1+1\\nprint(a)')\n",
    "arquivo.close()"
   ]
  },
  {
   "cell_type": "markdown",
   "metadata": {},
   "source": [
    "> Path absoluto"
   ]
  },
  {
   "cell_type": "code",
   "execution_count": 40,
   "metadata": {},
   "outputs": [],
   "source": [
    "import os\n",
    "\n",
    "os.mkdir(\"../../../Curso/Python/Leitura e Escrita em Arquivos/templates\")"
   ]
  },
  {
   "cell_type": "markdown",
   "metadata": {},
   "source": [
    "> Criando multi-diretórios (árvore de diretórios)"
   ]
  },
  {
   "cell_type": "code",
   "execution_count": 50,
   "metadata": {},
   "outputs": [],
   "source": [
    "import os\n",
    "\n",
    "os.makedirs('templates/geek/university/outro')"
   ]
  },
  {
   "cell_type": "code",
   "execution_count": 49,
   "metadata": {},
   "outputs": [],
   "source": [
    "import os\n",
    "\n",
    "os.makedirs('templates2/novo2/outro2', exist_ok=True)"
   ]
  },
  {
   "cell_type": "markdown",
   "metadata": {},
   "source": [
    "> Renomeando arquivos e diretórios"
   ]
  },
  {
   "cell_type": "code",
   "execution_count": 64,
   "metadata": {},
   "outputs": [],
   "source": [
    "import os\n",
    "\n",
    "os.rename('templates2', 'geek2')\n",
    "# OBS: se o diretório que queremos renomear não estiver vazio, teremos um OSError\n",
    "\n",
    "# Arquivos\n",
    "os.rename('frutas.txt', 'cesta.txt')"
   ]
  },
  {
   "cell_type": "markdown",
   "metadata": {},
   "source": [
    "> Removendo arquivos"
   ]
  },
  {
   "cell_type": "code",
   "execution_count": 65,
   "metadata": {},
   "outputs": [],
   "source": [
    "import os\n",
    "\n",
    "# ATENÇÃO! Tome cuidado com o comando de deletar. Ao deletarmos um arquivo ou diretório, eles não vão para a lixeira.\n",
    "\n",
    "os.remove('arquivo-teste3.txt')"
   ]
  },
  {
   "cell_type": "markdown",
   "metadata": {},
   "source": [
    "> Removendo diretórios"
   ]
  },
  {
   "cell_type": "code",
   "execution_count": null,
   "metadata": {},
   "outputs": [],
   "source": [
    "import os\n",
    "\n",
    "os.rmdir('templates')\n",
    "# OBS: Se o diretório tiver qualquer conteúdo teremos um OSError"
   ]
  },
  {
   "cell_type": "markdown",
   "metadata": {},
   "source": [
    "> Removendo uma árvore de diretórios"
   ]
  },
  {
   "cell_type": "code",
   "execution_count": null,
   "metadata": {},
   "outputs": [],
   "source": [
    "import os\n",
    "\n",
    "for arquivo in os.scandir('geek2'):\n",
    "    print(f' - {arquivo.name}')\n",
    "    if arquivo.is_file():\n",
    "        os.remove(arquivo.path)"
   ]
  },
  {
   "cell_type": "markdown",
   "metadata": {},
   "source": [
    "> Trabalhando com arquivos e diretórios temporários"
   ]
  },
  {
   "cell_type": "code",
   "execution_count": null,
   "metadata": {},
   "outputs": [],
   "source": [
    "import tempfile,os\n",
    "\n",
    "with tempfile.TemporaryDirectory() as tmp:\n",
    "    print(f'Criei o diretório temporario em {tmp}')\n",
    "    with open(os.path.join(tmp, 'arquivo_temporario.txt'), 'w') as arquivo:\n",
    "        arquivo.write('Geek University\\n')\n",
    "        input()\n",
    "\n",
    "'''\n",
    "Estamos criando um diretório temporário, abrindo o mesmo e dentro dele criando um arquivo para escrevermos\n",
    "um texto. No final, usamos um input() só para mantermos os arquivos temporários 'vivos' dentro dos blocos with.\n",
    "\n",
    "OBS: Possivelmente , o código acima não irá funcionar se você estiver utilizando o Windows. Por conta desse sistema trabalhar\n",
    "de forma diferente com arquivos temporários.\n",
    "'''"
   ]
  }
 ],
 "metadata": {
  "interpreter": {
   "hash": "35ff28621f974bbf6836097d45f37c72b8472ad447b3391b76a5c5a8b74a4693"
  },
  "kernelspec": {
   "display_name": "Python 3.7.8 64-bit",
   "language": "python",
   "name": "python3"
  },
  "language_info": {
   "codemirror_mode": {
    "name": "ipython",
    "version": 3
   },
   "file_extension": ".py",
   "mimetype": "text/x-python",
   "name": "python",
   "nbconvert_exporter": "python",
   "pygments_lexer": "ipython3",
   "version": "3.7.8"
  },
  "orig_nbformat": 4
 },
 "nbformat": 4,
 "nbformat_minor": 2
}
