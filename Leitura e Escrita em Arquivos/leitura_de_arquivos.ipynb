{
 "cells": [
  {
   "cell_type": "markdown",
   "metadata": {},
   "source": [
    "> Por padrão a função open() abre o arquivo para leitura"
   ]
  },
  {
   "cell_type": "code",
   "execution_count": null,
   "metadata": {},
   "outputs": [],
   "source": [
    "arquivo = open(r\"C:\\Work\\Curso\\Python\\README.md\", encoding=\"UTF-8\")\n",
    "\n",
    "print(arquivo)\n",
    "print(type(arquivo))\n",
    "\n",
    "\"\"\"\n",
    "<_io.TextIOWrapper name='C:\\\\Work\\\\Curso\\\\Python\\\\README.md' mode='r' encoding='utf-8'>\n",
    "mode r -> Modo de leitura. r -> read() -> ler\n",
    "\"\"\"\n"
   ]
  },
  {
   "cell_type": "markdown",
   "metadata": {},
   "source": [
    "> Para ler  o conteúdo de um arquivo, apos sua abertura, devemos utilizar a função read()"
   ]
  },
  {
   "cell_type": "code",
   "execution_count": null,
   "metadata": {},
   "outputs": [],
   "source": [
    "arquivo = open(r\"C:\\Work\\Curso\\Python\\README.md\", encoding=\"UTF-8\")\n",
    "\n",
    "ret = arquivo.read()\n",
    "print(ret)\n",
    "print(type(ret))"
   ]
  },
  {
   "cell_type": "markdown",
   "metadata": {},
   "source": [
    "> seek()"
   ]
  },
  {
   "cell_type": "code",
   "execution_count": null,
   "metadata": {},
   "outputs": [],
   "source": [
    "# seek() - > É utilizada para movimentar o cursor pelo arquivo.\n",
    "\n",
    "arquivo = open(r\"C:\\Work\\Curso\\Python\\README.md\", encoding=\"UTF-8\")\n",
    "\n",
    "arquivo.seek(5)\n",
    "\n",
    "print(arquivo.read())"
   ]
  },
  {
   "cell_type": "markdown",
   "metadata": {},
   "source": [
    "> readline()"
   ]
  },
  {
   "cell_type": "code",
   "execution_count": null,
   "metadata": {},
   "outputs": [],
   "source": [
    "# readline() -> Função que lê o arquivo linha a linha\n",
    "\n",
    "arquivo = open(r\"C:\\Work\\Curso\\Python\\README.md\", encoding=\"UTF-8\")\n",
    "\n",
    "# print(arquivo.readline())\n",
    "# # # Programacao-em-Python\n",
    "\n",
    "# print(arquivo.readline())\n",
    "# # Programação em Python do básico ao avançado - Udemy\n",
    "\n",
    "ret = arquivo.readline()\n",
    "\n",
    "print(type(ret))\n",
    "# <class 'str'>\n",
    "\n",
    "print(ret)\n",
    "# # Programacao-em-Python\n",
    "\n",
    "print(ret.split('-'))\n",
    "# ['# Programacao', 'em', 'Python\\n']\n"
   ]
  },
  {
   "cell_type": "markdown",
   "metadata": {},
   "source": [
    "> readlines()"
   ]
  },
  {
   "cell_type": "code",
   "execution_count": null,
   "metadata": {},
   "outputs": [],
   "source": [
    "arquivo = open(r\"C:\\Work\\Curso\\Python\\README.md\", encoding=\"UTF-8\")\n",
    "\n",
    "linhas = arquivo.readlines()\n",
    "\n",
    "# print(arquivo.readlines())\n",
    "# ['# Programacao-em-Python\\n', 'Programação em Python do básico ao avançado - Udemy\\n']\n",
    "\n",
    "print(len(linhas))"
   ]
  },
  {
   "cell_type": "markdown",
   "metadata": {},
   "source": [
    "> Passos para se trabalhar com um arquivo:"
   ]
  },
  {
   "cell_type": "code",
   "execution_count": null,
   "metadata": {},
   "outputs": [],
   "source": [
    "\n",
    "# 1 - Abrir o arquivo\n",
    "arquivo = open(r\"C:\\Work\\Curso\\Python\\README.md\", encoding=\"UTF-8\")\n",
    "\n",
    "# 2 - Trabalhar o arquivo\n",
    "print(arquivo.read())\n",
    "\n",
    "# Verificar se o arquivo está aberto ou fechado\n",
    "print(\"Fechado?\",arquivo.closed)\n",
    "\n",
    "# 3 - Fechar o arquivo\n",
    "arquivo.close()\n",
    "\n",
    "print(\"Fechado?\",arquivo.closed)\n"
   ]
  },
  {
   "cell_type": "markdown",
   "metadata": {},
   "source": [
    "> with()"
   ]
  },
  {
   "cell_type": "code",
   "execution_count": null,
   "metadata": {},
   "outputs": [],
   "source": [
    "# É utilizado para criar um contexto de trabalho onde os recursos utilizados são fechados após o bloco with\n",
    "\n",
    "with open(r\"C:\\Work\\Curso\\Python\\README.md\", encoding=\"UTF-8\") as arquivo:\n",
    "    print(arquivo.readlines())\n",
    "    print(\"Fechado?\",arquivo.closed)\n",
    "print(\"Fechado?\",arquivo.closed)"
   ]
  }
 ],
 "metadata": {
  "interpreter": {
   "hash": "35ff28621f974bbf6836097d45f37c72b8472ad447b3391b76a5c5a8b74a4693"
  },
  "kernelspec": {
   "display_name": "Python 3.7.8 64-bit",
   "language": "python",
   "name": "python3"
  },
  "language_info": {
   "codemirror_mode": {
    "name": "ipython",
    "version": 3
   },
   "file_extension": ".py",
   "mimetype": "text/x-python",
   "name": "python",
   "nbconvert_exporter": "python",
   "pygments_lexer": "ipython3",
   "version": "3.7.8"
  },
  "orig_nbformat": 4
 },
 "nbformat": 4,
 "nbformat_minor": 2
}
