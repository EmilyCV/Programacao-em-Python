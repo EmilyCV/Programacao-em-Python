{
 "cells": [
  {
   "cell_type": "markdown",
   "metadata": {},
   "source": [
    "> Escrita - modo 'w' - 'write (escrita)"
   ]
  },
  {
   "cell_type": "code",
   "execution_count": 21,
   "metadata": {},
   "outputs": [],
   "source": [
    "# Se o arquivo não existir será criado, caso ele já exista, o anterior será apagado e um novo será criado. Dessa forma, todo o conteúdo no arquivo anterior é perdido.\n",
    "\n",
    "with open(r\"novo.txt\", 'w') as arquivo:\n",
    "    arquivo.write('Escrevendo dados em um arquivo.\\n')\n",
    "    arquivo.write('Fazendo quebra de linha')\n"
   ]
  },
  {
   "cell_type": "code",
   "execution_count": 25,
   "metadata": {},
   "outputs": [],
   "source": [
    "arquivo = open(r\"novo.txt\", 'w')\n",
    "\n",
    "arquivo.write('Um texto qualquer. \\n')\n",
    "arquivo.write('Mais texto.')\n",
    "\n",
    "arquivo.close()"
   ]
  },
  {
   "cell_type": "code",
   "execution_count": 28,
   "metadata": {},
   "outputs": [],
   "source": [
    "with open('geek.txt', 'w') as arquivo:\n",
    "    arquivo.write('Geek\\n' * 200)"
   ]
  },
  {
   "cell_type": "code",
   "execution_count": 29,
   "metadata": {},
   "outputs": [],
   "source": [
    "with open('frutas.txt','w') as arquivo:\n",
    "    while True:\n",
    "        fruta = input(\"Informe uma fruta ou digite sair: \")\n",
    "        if fruta != 'sair':\n",
    "            arquivo.write(fruta)\n",
    "            arquivo.write(\"\\n\")\n",
    "        else:\n",
    "            break"
   ]
  },
  {
   "cell_type": "markdown",
   "metadata": {},
   "source": [
    "> x -> Abre para escrita somente se o arquivo não existir"
   ]
  },
  {
   "cell_type": "code",
   "execution_count": null,
   "metadata": {},
   "outputs": [],
   "source": [
    "try:\n",
    "    with open('geek.txt', 'x') as arquivo:\n",
    "        arquivo.write('Teste')\n",
    "except FileExistsError:\n",
    "    print('Arquivo já existe')"
   ]
  },
  {
   "cell_type": "markdown",
   "metadata": {},
   "source": [
    "> a -> Abre para escrita, adicionando o conteúdo no final do arquivo"
   ]
  },
  {
   "cell_type": "code",
   "execution_count": 31,
   "metadata": {},
   "outputs": [],
   "source": [
    "with open('frutas.txt','a') as arquivo:\n",
    "    while True:\n",
    "        fruta = input(\"Informe uma fruta ou digite sair: \")\n",
    "        if fruta != 'sair':\n",
    "            arquivo.write(fruta)\n",
    "            arquivo.write(\"\\n\")\n",
    "        else:\n",
    "            break"
   ]
  },
  {
   "cell_type": "markdown",
   "metadata": {},
   "source": [
    "> ' + -> Abre para o modo de atualização: Leitura e Escrita"
   ]
  },
  {
   "cell_type": "code",
   "execution_count": 37,
   "metadata": {},
   "outputs": [],
   "source": [
    "with open('novo.txt', 'a+') as arquivo:\n",
    "    arquivo.seek(0)\n",
    "    arquivo.write('No topo\\n')\n",
    "    arquivo.write('Nova linha')"
   ]
  }
 ],
 "metadata": {
  "interpreter": {
   "hash": "35ff28621f974bbf6836097d45f37c72b8472ad447b3391b76a5c5a8b74a4693"
  },
  "kernelspec": {
   "display_name": "Python 3.7.8 64-bit",
   "language": "python",
   "name": "python3"
  },
  "language_info": {
   "codemirror_mode": {
    "name": "ipython",
    "version": 3
   },
   "file_extension": ".py",
   "mimetype": "text/x-python",
   "name": "python",
   "nbconvert_exporter": "python",
   "pygments_lexer": "ipython3",
   "version": "3.7.8"
  },
  "orig_nbformat": 4
 },
 "nbformat": 4,
 "nbformat_minor": 2
}
