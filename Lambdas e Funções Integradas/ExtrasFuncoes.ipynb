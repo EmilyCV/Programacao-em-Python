{
 "cells": [
  {
   "cell_type": "code",
   "execution_count": null,
   "metadata": {},
   "outputs": [],
   "source": [
    "# Váriações do len\n",
    "\n",
    "# Function\n",
    "print(len(\"Geek University\"))\n",
    "# 15\n",
    "\n",
    "# Method\n",
    "print(\"Geek University\".__len__())\n",
    "# 15\n",
    "\n",
    "print(\"Geek University\".__len__)\n",
    "# <method-wrapper '__len__' of str object at 0x0000017F168797F0>"
   ]
  },
  {
   "cell_type": "code",
   "execution_count": null,
   "metadata": {},
   "outputs": [],
   "source": [
    "# Round\n",
    "\n",
    "print(round(10.2))\n",
    "# 10\n",
    "\n",
    "print(round(10.223,1))\n",
    "# 10.2\n",
    "\n",
    "print(round(10.223,2))\n",
    "# 10.22\n",
    "\n",
    "print(round(10.223,3))\n",
    "# 10.223\n",
    "\n",
    "print(round(1.21999, 2))\n",
    "# 1.22"
   ]
  }
 ],
 "metadata": {
  "interpreter": {
   "hash": "35ff28621f974bbf6836097d45f37c72b8472ad447b3391b76a5c5a8b74a4693"
  },
  "kernelspec": {
   "display_name": "Python 3.7.8 64-bit",
   "language": "python",
   "name": "python3"
  },
  "language_info": {
   "codemirror_mode": {
    "name": "ipython",
    "version": 3
   },
   "file_extension": ".py",
   "mimetype": "text/x-python",
   "name": "python",
   "nbconvert_exporter": "python",
   "pygments_lexer": "ipython3",
   "version": "3.7.8"
  },
  "orig_nbformat": 4
 },
 "nbformat": 4,
 "nbformat_minor": 2
}
