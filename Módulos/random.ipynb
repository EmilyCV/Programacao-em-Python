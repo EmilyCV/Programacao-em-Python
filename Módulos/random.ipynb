{
 "cells": [
  {
   "cell_type": "markdown",
   "metadata": {},
   "source": [
    "> Random"
   ]
  },
  {
   "cell_type": "code",
   "execution_count": null,
   "metadata": {},
   "outputs": [],
   "source": [
    "# Todas as funções, atributos, classes e propriedades que estiverem dentro do módulo ficarão disponíveis na memória.\n",
    "import random\n",
    "\n",
    "print(random.random())"
   ]
  },
  {
   "cell_type": "code",
   "execution_count": null,
   "metadata": {},
   "outputs": [],
   "source": [
    "from random import random\n",
    "\n",
    "for i in range(10):\n",
    "    print(random())"
   ]
  },
  {
   "cell_type": "markdown",
   "metadata": {},
   "source": [
    "> Randint"
   ]
  },
  {
   "cell_type": "code",
   "execution_count": null,
   "metadata": {},
   "outputs": [],
   "source": [
    "#  randint() -> Gerar um número pseudo-aleatório entre os valores estabelecidos\n",
    "from random import randint\n",
    "\n",
    "for i in range(10):\n",
    "    print(randint(1,61), end=\" \") # começa em 1 e vai até 60"
   ]
  },
  {
   "cell_type": "markdown",
   "metadata": {},
   "source": [
    "> Uniform"
   ]
  },
  {
   "cell_type": "code",
   "execution_count": null,
   "metadata": {},
   "outputs": [],
   "source": [
    "#  uniform() -> Gerar um número pseudo-aleatório entre os valores estabelecidos\n",
    "from random import uniform\n",
    "\n",
    "for i in range(10):\n",
    "    print(uniform(3,7)) # 7 não é incluido"
   ]
  },
  {
   "cell_type": "markdown",
   "metadata": {},
   "source": [
    "> Choice"
   ]
  },
  {
   "cell_type": "code",
   "execution_count": null,
   "metadata": {},
   "outputs": [],
   "source": [
    "# choice() -> Mostra um valor aleatório entre um interável\n",
    "from random import choice\n",
    "\n",
    "jogadas = ['pedra', 'papel', 'tesoura']\n",
    "\n",
    "print(choice(jogadas))\n",
    "\n",
    "# Letra aleatoria dentro da str\n",
    "print(choice(\"Geek University\"))"
   ]
  },
  {
   "cell_type": "markdown",
   "metadata": {},
   "source": [
    "> Shuffle"
   ]
  },
  {
   "cell_type": "code",
   "execution_count": null,
   "metadata": {},
   "outputs": [],
   "source": [
    "# shuffle() -> Tem a função de embaralhar dados\n",
    "from random import shuffle\n",
    "\n",
    "cartas = ['K', 'Q', 'J', 'A', '2','3','4','5','6','7']\n",
    "\n",
    "print(cartas)\n",
    "shuffle(cartas)\n",
    "print(cartas)"
   ]
  },
  {
   "cell_type": "code",
   "execution_count": 1,
   "metadata": {},
   "outputs": [
    {
     "name": "stdout",
     "output_type": "stream",
     "text": [
      "primeiro.py foi importado primeiro\n"
     ]
    }
   ],
   "source": [
    "# Testando dunder\n",
    "import primeiro"
   ]
  },
  {
   "cell_type": "code",
   "execution_count": 2,
   "metadata": {},
   "outputs": [
    {
     "name": "stdout",
     "output_type": "stream",
     "text": [
      "segundo.py foi importado segundo\n"
     ]
    }
   ],
   "source": [
    "import segundo"
   ]
  }
 ],
 "metadata": {
  "interpreter": {
   "hash": "35ff28621f974bbf6836097d45f37c72b8472ad447b3391b76a5c5a8b74a4693"
  },
  "kernelspec": {
   "display_name": "Python 3.7.8 64-bit",
   "language": "python",
   "name": "python3"
  },
  "language_info": {
   "codemirror_mode": {
    "name": "ipython",
    "version": 3
   },
   "file_extension": ".py",
   "mimetype": "text/x-python",
   "name": "python",
   "nbconvert_exporter": "python",
   "pygments_lexer": "ipython3",
   "version": "3.7.8"
  },
  "orig_nbformat": 4
 },
 "nbformat": 4,
 "nbformat_minor": 2
}
